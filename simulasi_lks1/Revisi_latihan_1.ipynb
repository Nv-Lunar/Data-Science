{
 "cells": [
  {
   "cell_type": "markdown",
   "id": "1b72dc75",
   "metadata": {},
   "source": [
    "# Data Preparation"
   ]
  },
  {
   "cell_type": "code",
   "execution_count": 1,
   "id": "832cae1e",
   "metadata": {},
   "outputs": [],
   "source": [
    "import pandas as pd\n",
    "import numpy as np\n",
    "import seaborn as sns\n",
    "import matplotlib.pyplot as plt"
   ]
  },
  {
   "cell_type": "code",
   "execution_count": 2,
   "id": "893cb292",
   "metadata": {},
   "outputs": [
    {
     "data": {
      "text/html": [
       "<div>\n",
       "<style scoped>\n",
       "    .dataframe tbody tr th:only-of-type {\n",
       "        vertical-align: middle;\n",
       "    }\n",
       "\n",
       "    .dataframe tbody tr th {\n",
       "        vertical-align: top;\n",
       "    }\n",
       "\n",
       "    .dataframe thead th {\n",
       "        text-align: right;\n",
       "    }\n",
       "</style>\n",
       "<table border=\"1\" class=\"dataframe\">\n",
       "  <thead>\n",
       "    <tr style=\"text-align: right;\">\n",
       "      <th></th>\n",
       "      <th>Unnamed: 0</th>\n",
       "      <th>YearsExperience</th>\n",
       "      <th>Salary</th>\n",
       "    </tr>\n",
       "  </thead>\n",
       "  <tbody>\n",
       "    <tr>\n",
       "      <th>0</th>\n",
       "      <td>0</td>\n",
       "      <td>1.2</td>\n",
       "      <td>39344.0</td>\n",
       "    </tr>\n",
       "    <tr>\n",
       "      <th>1</th>\n",
       "      <td>1</td>\n",
       "      <td>1.4</td>\n",
       "      <td>46206.0</td>\n",
       "    </tr>\n",
       "    <tr>\n",
       "      <th>2</th>\n",
       "      <td>2</td>\n",
       "      <td>1.6</td>\n",
       "      <td>37732.0</td>\n",
       "    </tr>\n",
       "    <tr>\n",
       "      <th>3</th>\n",
       "      <td>3</td>\n",
       "      <td>2.1</td>\n",
       "      <td>43526.0</td>\n",
       "    </tr>\n",
       "    <tr>\n",
       "      <th>4</th>\n",
       "      <td>4</td>\n",
       "      <td>2.3</td>\n",
       "      <td>39892.0</td>\n",
       "    </tr>\n",
       "    <tr>\n",
       "      <th>5</th>\n",
       "      <td>5</td>\n",
       "      <td>3.0</td>\n",
       "      <td>56643.0</td>\n",
       "    </tr>\n",
       "    <tr>\n",
       "      <th>6</th>\n",
       "      <td>6</td>\n",
       "      <td>3.1</td>\n",
       "      <td>60151.0</td>\n",
       "    </tr>\n",
       "    <tr>\n",
       "      <th>7</th>\n",
       "      <td>7</td>\n",
       "      <td>3.3</td>\n",
       "      <td>NaN</td>\n",
       "    </tr>\n",
       "    <tr>\n",
       "      <th>8</th>\n",
       "      <td>8</td>\n",
       "      <td>3.3</td>\n",
       "      <td>64446.0</td>\n",
       "    </tr>\n",
       "    <tr>\n",
       "      <th>9</th>\n",
       "      <td>9</td>\n",
       "      <td>3.8</td>\n",
       "      <td>57190.0</td>\n",
       "    </tr>\n",
       "    <tr>\n",
       "      <th>10</th>\n",
       "      <td>10</td>\n",
       "      <td>4.0</td>\n",
       "      <td>NaN</td>\n",
       "    </tr>\n",
       "    <tr>\n",
       "      <th>11</th>\n",
       "      <td>11</td>\n",
       "      <td>4.1</td>\n",
       "      <td>55795.0</td>\n",
       "    </tr>\n",
       "    <tr>\n",
       "      <th>12</th>\n",
       "      <td>12</td>\n",
       "      <td>4.1</td>\n",
       "      <td>56958.0</td>\n",
       "    </tr>\n",
       "    <tr>\n",
       "      <th>13</th>\n",
       "      <td>13</td>\n",
       "      <td>4.2</td>\n",
       "      <td>57082.0</td>\n",
       "    </tr>\n",
       "    <tr>\n",
       "      <th>14</th>\n",
       "      <td>14</td>\n",
       "      <td>4.6</td>\n",
       "      <td>61112.0</td>\n",
       "    </tr>\n",
       "    <tr>\n",
       "      <th>15</th>\n",
       "      <td>15</td>\n",
       "      <td>5.0</td>\n",
       "      <td>67939.0</td>\n",
       "    </tr>\n",
       "    <tr>\n",
       "      <th>16</th>\n",
       "      <td>16</td>\n",
       "      <td>5.2</td>\n",
       "      <td>66030.0</td>\n",
       "    </tr>\n",
       "    <tr>\n",
       "      <th>17</th>\n",
       "      <td>17</td>\n",
       "      <td>5.4</td>\n",
       "      <td>83089.0</td>\n",
       "    </tr>\n",
       "    <tr>\n",
       "      <th>18</th>\n",
       "      <td>18</td>\n",
       "      <td>6.0</td>\n",
       "      <td>81364.0</td>\n",
       "    </tr>\n",
       "    <tr>\n",
       "      <th>19</th>\n",
       "      <td>19</td>\n",
       "      <td>6.1</td>\n",
       "      <td>93941.0</td>\n",
       "    </tr>\n",
       "    <tr>\n",
       "      <th>20</th>\n",
       "      <td>20</td>\n",
       "      <td>6.9</td>\n",
       "      <td>91739.0</td>\n",
       "    </tr>\n",
       "    <tr>\n",
       "      <th>21</th>\n",
       "      <td>21</td>\n",
       "      <td>7.2</td>\n",
       "      <td>98274.0</td>\n",
       "    </tr>\n",
       "    <tr>\n",
       "      <th>22</th>\n",
       "      <td>22</td>\n",
       "      <td>8.0</td>\n",
       "      <td>NaN</td>\n",
       "    </tr>\n",
       "    <tr>\n",
       "      <th>23</th>\n",
       "      <td>23</td>\n",
       "      <td>8.3</td>\n",
       "      <td>113813.0</td>\n",
       "    </tr>\n",
       "    <tr>\n",
       "      <th>24</th>\n",
       "      <td>24</td>\n",
       "      <td>8.8</td>\n",
       "      <td>109432.0</td>\n",
       "    </tr>\n",
       "    <tr>\n",
       "      <th>25</th>\n",
       "      <td>25</td>\n",
       "      <td>9.1</td>\n",
       "      <td>105583.0</td>\n",
       "    </tr>\n",
       "    <tr>\n",
       "      <th>26</th>\n",
       "      <td>26</td>\n",
       "      <td>9.6</td>\n",
       "      <td>NaN</td>\n",
       "    </tr>\n",
       "    <tr>\n",
       "      <th>27</th>\n",
       "      <td>27</td>\n",
       "      <td>9.7</td>\n",
       "      <td>112636.0</td>\n",
       "    </tr>\n",
       "    <tr>\n",
       "      <th>28</th>\n",
       "      <td>28</td>\n",
       "      <td>10.4</td>\n",
       "      <td>122392.0</td>\n",
       "    </tr>\n",
       "    <tr>\n",
       "      <th>29</th>\n",
       "      <td>29</td>\n",
       "      <td>10.6</td>\n",
       "      <td>NaN</td>\n",
       "    </tr>\n",
       "  </tbody>\n",
       "</table>\n",
       "</div>"
      ],
      "text/plain": [
       "    Unnamed: 0  YearsExperience    Salary\n",
       "0            0              1.2   39344.0\n",
       "1            1              1.4   46206.0\n",
       "2            2              1.6   37732.0\n",
       "3            3              2.1   43526.0\n",
       "4            4              2.3   39892.0\n",
       "5            5              3.0   56643.0\n",
       "6            6              3.1   60151.0\n",
       "7            7              3.3       NaN\n",
       "8            8              3.3   64446.0\n",
       "9            9              3.8   57190.0\n",
       "10          10              4.0       NaN\n",
       "11          11              4.1   55795.0\n",
       "12          12              4.1   56958.0\n",
       "13          13              4.2   57082.0\n",
       "14          14              4.6   61112.0\n",
       "15          15              5.0   67939.0\n",
       "16          16              5.2   66030.0\n",
       "17          17              5.4   83089.0\n",
       "18          18              6.0   81364.0\n",
       "19          19              6.1   93941.0\n",
       "20          20              6.9   91739.0\n",
       "21          21              7.2   98274.0\n",
       "22          22              8.0       NaN\n",
       "23          23              8.3  113813.0\n",
       "24          24              8.8  109432.0\n",
       "25          25              9.1  105583.0\n",
       "26          26              9.6       NaN\n",
       "27          27              9.7  112636.0\n",
       "28          28             10.4  122392.0\n",
       "29          29             10.6       NaN"
      ]
     },
     "execution_count": 2,
     "metadata": {},
     "output_type": "execute_result"
    }
   ],
   "source": [
    "# Import csv dan memisahkan kolom agar memudahkan mengatur data dan jika ingin menghapus kolom yang tidak diperlukan\n",
    "data = pd.read_csv('Salary_dataset_1.csv', sep=',')\n",
    "\n",
    "# Copy csv agar data asli tidak ter rewrite\n",
    "data = data.copy()\n",
    "\n",
    "df = pd.DataFrame(data)\n",
    "df"
   ]
  },
  {
   "cell_type": "code",
   "execution_count": 3,
   "id": "25a0f19d",
   "metadata": {},
   "outputs": [
    {
     "data": {
      "text/html": [
       "<div>\n",
       "<style scoped>\n",
       "    .dataframe tbody tr th:only-of-type {\n",
       "        vertical-align: middle;\n",
       "    }\n",
       "\n",
       "    .dataframe tbody tr th {\n",
       "        vertical-align: top;\n",
       "    }\n",
       "\n",
       "    .dataframe thead th {\n",
       "        text-align: right;\n",
       "    }\n",
       "</style>\n",
       "<table border=\"1\" class=\"dataframe\">\n",
       "  <thead>\n",
       "    <tr style=\"text-align: right;\">\n",
       "      <th></th>\n",
       "      <th>YearsExperience</th>\n",
       "      <th>Salary</th>\n",
       "    </tr>\n",
       "  </thead>\n",
       "  <tbody>\n",
       "    <tr>\n",
       "      <th>0</th>\n",
       "      <td>1.2</td>\n",
       "      <td>39344.0</td>\n",
       "    </tr>\n",
       "    <tr>\n",
       "      <th>1</th>\n",
       "      <td>1.4</td>\n",
       "      <td>46206.0</td>\n",
       "    </tr>\n",
       "    <tr>\n",
       "      <th>2</th>\n",
       "      <td>1.6</td>\n",
       "      <td>37732.0</td>\n",
       "    </tr>\n",
       "    <tr>\n",
       "      <th>3</th>\n",
       "      <td>2.1</td>\n",
       "      <td>43526.0</td>\n",
       "    </tr>\n",
       "    <tr>\n",
       "      <th>4</th>\n",
       "      <td>2.3</td>\n",
       "      <td>39892.0</td>\n",
       "    </tr>\n",
       "    <tr>\n",
       "      <th>5</th>\n",
       "      <td>3.0</td>\n",
       "      <td>56643.0</td>\n",
       "    </tr>\n",
       "    <tr>\n",
       "      <th>6</th>\n",
       "      <td>3.1</td>\n",
       "      <td>60151.0</td>\n",
       "    </tr>\n",
       "    <tr>\n",
       "      <th>7</th>\n",
       "      <td>3.3</td>\n",
       "      <td>NaN</td>\n",
       "    </tr>\n",
       "    <tr>\n",
       "      <th>8</th>\n",
       "      <td>3.3</td>\n",
       "      <td>64446.0</td>\n",
       "    </tr>\n",
       "    <tr>\n",
       "      <th>9</th>\n",
       "      <td>3.8</td>\n",
       "      <td>57190.0</td>\n",
       "    </tr>\n",
       "    <tr>\n",
       "      <th>10</th>\n",
       "      <td>4.0</td>\n",
       "      <td>NaN</td>\n",
       "    </tr>\n",
       "    <tr>\n",
       "      <th>11</th>\n",
       "      <td>4.1</td>\n",
       "      <td>55795.0</td>\n",
       "    </tr>\n",
       "    <tr>\n",
       "      <th>12</th>\n",
       "      <td>4.1</td>\n",
       "      <td>56958.0</td>\n",
       "    </tr>\n",
       "    <tr>\n",
       "      <th>13</th>\n",
       "      <td>4.2</td>\n",
       "      <td>57082.0</td>\n",
       "    </tr>\n",
       "    <tr>\n",
       "      <th>14</th>\n",
       "      <td>4.6</td>\n",
       "      <td>61112.0</td>\n",
       "    </tr>\n",
       "    <tr>\n",
       "      <th>15</th>\n",
       "      <td>5.0</td>\n",
       "      <td>67939.0</td>\n",
       "    </tr>\n",
       "    <tr>\n",
       "      <th>16</th>\n",
       "      <td>5.2</td>\n",
       "      <td>66030.0</td>\n",
       "    </tr>\n",
       "    <tr>\n",
       "      <th>17</th>\n",
       "      <td>5.4</td>\n",
       "      <td>83089.0</td>\n",
       "    </tr>\n",
       "    <tr>\n",
       "      <th>18</th>\n",
       "      <td>6.0</td>\n",
       "      <td>81364.0</td>\n",
       "    </tr>\n",
       "    <tr>\n",
       "      <th>19</th>\n",
       "      <td>6.1</td>\n",
       "      <td>93941.0</td>\n",
       "    </tr>\n",
       "    <tr>\n",
       "      <th>20</th>\n",
       "      <td>6.9</td>\n",
       "      <td>91739.0</td>\n",
       "    </tr>\n",
       "    <tr>\n",
       "      <th>21</th>\n",
       "      <td>7.2</td>\n",
       "      <td>98274.0</td>\n",
       "    </tr>\n",
       "    <tr>\n",
       "      <th>22</th>\n",
       "      <td>8.0</td>\n",
       "      <td>NaN</td>\n",
       "    </tr>\n",
       "    <tr>\n",
       "      <th>23</th>\n",
       "      <td>8.3</td>\n",
       "      <td>113813.0</td>\n",
       "    </tr>\n",
       "    <tr>\n",
       "      <th>24</th>\n",
       "      <td>8.8</td>\n",
       "      <td>109432.0</td>\n",
       "    </tr>\n",
       "    <tr>\n",
       "      <th>25</th>\n",
       "      <td>9.1</td>\n",
       "      <td>105583.0</td>\n",
       "    </tr>\n",
       "    <tr>\n",
       "      <th>26</th>\n",
       "      <td>9.6</td>\n",
       "      <td>NaN</td>\n",
       "    </tr>\n",
       "    <tr>\n",
       "      <th>27</th>\n",
       "      <td>9.7</td>\n",
       "      <td>112636.0</td>\n",
       "    </tr>\n",
       "    <tr>\n",
       "      <th>28</th>\n",
       "      <td>10.4</td>\n",
       "      <td>122392.0</td>\n",
       "    </tr>\n",
       "    <tr>\n",
       "      <th>29</th>\n",
       "      <td>10.6</td>\n",
       "      <td>NaN</td>\n",
       "    </tr>\n",
       "  </tbody>\n",
       "</table>\n",
       "</div>"
      ],
      "text/plain": [
       "    YearsExperience    Salary\n",
       "0               1.2   39344.0\n",
       "1               1.4   46206.0\n",
       "2               1.6   37732.0\n",
       "3               2.1   43526.0\n",
       "4               2.3   39892.0\n",
       "5               3.0   56643.0\n",
       "6               3.1   60151.0\n",
       "7               3.3       NaN\n",
       "8               3.3   64446.0\n",
       "9               3.8   57190.0\n",
       "10              4.0       NaN\n",
       "11              4.1   55795.0\n",
       "12              4.1   56958.0\n",
       "13              4.2   57082.0\n",
       "14              4.6   61112.0\n",
       "15              5.0   67939.0\n",
       "16              5.2   66030.0\n",
       "17              5.4   83089.0\n",
       "18              6.0   81364.0\n",
       "19              6.1   93941.0\n",
       "20              6.9   91739.0\n",
       "21              7.2   98274.0\n",
       "22              8.0       NaN\n",
       "23              8.3  113813.0\n",
       "24              8.8  109432.0\n",
       "25              9.1  105583.0\n",
       "26              9.6       NaN\n",
       "27              9.7  112636.0\n",
       "28             10.4  122392.0\n",
       "29             10.6       NaN"
      ]
     },
     "execution_count": 3,
     "metadata": {},
     "output_type": "execute_result"
    }
   ],
   "source": [
    "# Menghapus kolom yang tidak diperlukan karena kolom 'Unnamed: 0' hanya berisi nomor baris\n",
    "df = df.drop(['Unnamed: 0'], axis = 1)\n",
    "df"
   ]
  },
  {
   "cell_type": "code",
   "execution_count": 4,
   "id": "73cf0f13",
   "metadata": {},
   "outputs": [
    {
     "name": "stdout",
     "output_type": "stream",
     "text": [
      "Salary: \n",
      "[ 39344.  46206.  37732.  43526.  39892.  56643.  60151.     nan  64446.\n",
      "  57190.  55795.  56958.  57082.  61112.  67939.  66030.  83089.  81364.\n",
      "  93941.  91739.  98274. 113813. 109432. 105583. 112636. 122392.] \n",
      "\n",
      "YearsExperience: \n",
      " [ 1.2  1.4  1.6  2.1  2.3  3.   3.1  3.3  3.8  4.   4.1  4.2  4.6  5.\n",
      "  5.2  5.4  6.   6.1  6.9  7.2  8.   8.3  8.8  9.1  9.6  9.7 10.4 10.6]\n"
     ]
    }
   ],
   "source": [
    "# Cek data unik\n",
    "salary_unique = df['Salary'].unique()\n",
    "exp_unique = df['YearsExperience'].unique()\n",
    "print(f'Salary: \\n{salary_unique} \\n\\nYearsExperience: \\n {exp_unique}')"
   ]
  },
  {
   "cell_type": "code",
   "execution_count": 5,
   "id": "5a9c718a",
   "metadata": {},
   "outputs": [
    {
     "data": {
      "text/plain": [
       "YearsExperience    float64\n",
       "Salary             float64\n",
       "dtype: object"
      ]
     },
     "execution_count": 5,
     "metadata": {},
     "output_type": "execute_result"
    }
   ],
   "source": [
    "# Cek tipe data\n",
    "df.dtypes"
   ]
  },
  {
   "cell_type": "code",
   "execution_count": 6,
   "id": "136c9a94",
   "metadata": {},
   "outputs": [
    {
     "data": {
      "text/html": [
       "<div>\n",
       "<style scoped>\n",
       "    .dataframe tbody tr th:only-of-type {\n",
       "        vertical-align: middle;\n",
       "    }\n",
       "\n",
       "    .dataframe tbody tr th {\n",
       "        vertical-align: top;\n",
       "    }\n",
       "\n",
       "    .dataframe thead th {\n",
       "        text-align: right;\n",
       "    }\n",
       "</style>\n",
       "<table border=\"1\" class=\"dataframe\">\n",
       "  <thead>\n",
       "    <tr style=\"text-align: right;\">\n",
       "      <th></th>\n",
       "      <th>YearsExperience</th>\n",
       "      <th>Salary</th>\n",
       "    </tr>\n",
       "  </thead>\n",
       "  <tbody>\n",
       "  </tbody>\n",
       "</table>\n",
       "</div>"
      ],
      "text/plain": [
       "Empty DataFrame\n",
       "Columns: [YearsExperience, Salary]\n",
       "Index: []"
      ]
     },
     "execution_count": 6,
     "metadata": {},
     "output_type": "execute_result"
    }
   ],
   "source": [
    "# Mengecek duplicates data\n",
    "df[df.duplicated() == 1]\n",
    "# Karena data tidak ada yang terduplikasi makanya tidak ada yang tampil"
   ]
  },
  {
   "cell_type": "code",
   "execution_count": 7,
   "id": "3541d782",
   "metadata": {},
   "outputs": [
    {
     "data": {
      "text/plain": [
       "YearsExperience    0\n",
       "Salary             5\n",
       "dtype: int64"
      ]
     },
     "execution_count": 7,
     "metadata": {},
     "output_type": "execute_result"
    }
   ],
   "source": [
    "# Chek data kosong\n",
    "df.isnull().sum()"
   ]
  },
  {
   "cell_type": "code",
   "execution_count": 8,
   "id": "cbcf6ce1",
   "metadata": {},
   "outputs": [
    {
     "data": {
      "text/html": [
       "<div>\n",
       "<style scoped>\n",
       "    .dataframe tbody tr th:only-of-type {\n",
       "        vertical-align: middle;\n",
       "    }\n",
       "\n",
       "    .dataframe tbody tr th {\n",
       "        vertical-align: top;\n",
       "    }\n",
       "\n",
       "    .dataframe thead th {\n",
       "        text-align: right;\n",
       "    }\n",
       "</style>\n",
       "<table border=\"1\" class=\"dataframe\">\n",
       "  <thead>\n",
       "    <tr style=\"text-align: right;\">\n",
       "      <th></th>\n",
       "      <th>YearsExperience</th>\n",
       "      <th>Salary</th>\n",
       "    </tr>\n",
       "  </thead>\n",
       "  <tbody>\n",
       "    <tr>\n",
       "      <th>7</th>\n",
       "      <td>3.3</td>\n",
       "      <td>NaN</td>\n",
       "    </tr>\n",
       "    <tr>\n",
       "      <th>10</th>\n",
       "      <td>4.0</td>\n",
       "      <td>NaN</td>\n",
       "    </tr>\n",
       "    <tr>\n",
       "      <th>22</th>\n",
       "      <td>8.0</td>\n",
       "      <td>NaN</td>\n",
       "    </tr>\n",
       "    <tr>\n",
       "      <th>26</th>\n",
       "      <td>9.6</td>\n",
       "      <td>NaN</td>\n",
       "    </tr>\n",
       "    <tr>\n",
       "      <th>29</th>\n",
       "      <td>10.6</td>\n",
       "      <td>NaN</td>\n",
       "    </tr>\n",
       "  </tbody>\n",
       "</table>\n",
       "</div>"
      ],
      "text/plain": [
       "    YearsExperience  Salary\n",
       "7               3.3     NaN\n",
       "10              4.0     NaN\n",
       "22              8.0     NaN\n",
       "26              9.6     NaN\n",
       "29             10.6     NaN"
      ]
     },
     "execution_count": 8,
     "metadata": {},
     "output_type": "execute_result"
    }
   ],
   "source": [
    "# Tampilkan data NaN\n",
    "df[df['Salary'].isna() == 1]"
   ]
  },
  {
   "cell_type": "code",
   "execution_count": 9,
   "id": "04a65033",
   "metadata": {},
   "outputs": [
    {
     "name": "stdout",
     "output_type": "stream",
     "text": [
      "    YearsExperience     Salary\n",
      "0               1.2   39344.00\n",
      "1               1.4   46206.00\n",
      "2               1.6   37732.00\n",
      "3               2.1   43526.00\n",
      "4               2.3   39892.00\n",
      "5               3.0   56643.00\n",
      "6               3.1   60151.00\n",
      "7               3.3   64031.71\n",
      "8               3.3   64446.00\n",
      "9               3.8   57190.00\n",
      "10              4.0   60200.00\n",
      "11              4.1   55795.00\n",
      "12              4.1   56958.00\n",
      "13              4.2   57082.00\n",
      "14              4.6   61112.00\n",
      "15              5.0   67939.00\n",
      "16              5.2   66030.00\n",
      "17              5.4   83089.00\n",
      "18              6.0   81364.00\n",
      "19              6.1   93941.00\n",
      "20              6.9   91739.00\n",
      "21              7.2   98274.00\n",
      "22              8.0  109193.33\n",
      "23              8.3  113813.00\n",
      "24              8.8  109432.00\n",
      "25              9.1  105583.00\n",
      "26              9.6  111384.26\n",
      "27              9.7  112636.00\n",
      "28             10.4  122392.00\n",
      "29             10.6  124745.69\n"
     ]
    }
   ],
   "source": [
    "# Mengisi data kosong dengan metode interpolate dan menyimpan perubahan data dengan inplace=True\n",
    "# df['Salary'].interpolate(inplace = True)\n",
    "# df\n",
    "\n",
    "# Melakukan operasi untuk mengisi nilai NaN dengan cara salary index sebelunya dibagi dengan yExp lalu dikali dengan yExp indeks yang berisi NaN\n",
    "for i in range(1, len(df)):\n",
    "    if pd.isna(df.at[i, 'Salary']):\n",
    "        # Menggunakan round agar hanya menampilkan 2 angka dibelakang koma\n",
    "        df.at[i, 'Salary'] = round(df.at[i-1, 'Salary'] / df.at[i-1, 'YearsExperience'] * df.at[i, 'YearsExperience'], 2)\n",
    "\n",
    "print(df)"
   ]
  },
  {
   "cell_type": "code",
   "execution_count": 10,
   "id": "47883e68",
   "metadata": {},
   "outputs": [
    {
     "data": {
      "image/png": "[encoded data removed]",
      "text/plain": [
       "<Figure size 640x480 with 1 Axes>"
      ]
     },
     "metadata": {},
     "output_type": "display_data"
    },
    {
     "data": {
      "image/png": "[encoded data removed]",
      "text/plain": [
       "<Figure size 640x480 with 1 Axes>"
      ]
     },
     "metadata": {},
     "output_type": "display_data"
    }
   ],
   "source": [
    "# Box plot for 'Salary'\n",
    "sns.boxplot(x=df['Salary'])\n",
    "plt.show()\n",
    "# Box plot for 'YearsExperience'\n",
    "sns.boxplot(x=df['YearsExperience'])\n",
    "plt.show()\n",
    "\n",
    "plt.show()"
   ]
  },
  {
   "cell_type": "markdown",
   "id": "3958b981",
   "metadata": {},
   "source": [
    "# EKSPLORATORY DATA ANALYSIS"
   ]
  },
  {
   "cell_type": "code",
   "execution_count": 11,
   "id": "54792836",
   "metadata": {},
   "outputs": [
    {
     "name": "stdout",
     "output_type": "stream",
     "text": [
      "Ringkasan Statistik:\n",
      "       YearsExperience         Salary\n",
      "count        30.000000      30.000000\n",
      "mean          5.413333   76395.466333\n",
      "std           2.837888   27456.616613\n",
      "min           1.200000   37732.000000\n",
      "25%           3.300000   56989.000000\n",
      "50%           4.800000   65238.000000\n",
      "75%           7.800000  103755.750000\n",
      "max          10.600000  124745.690000\n",
      "\n",
      "Median:\n",
      "YearsExperience        4.8\n",
      "Salary             65238.0\n",
      "dtype: float64\n",
      "\n",
      "Variance:\n",
      "YearsExperience    8.053609e+00\n",
      "Salary             7.538658e+08\n",
      "dtype: float64\n",
      "\n",
      "Skewness:\n",
      "YearsExperience    0.379560\n",
      "Salary             0.345288\n",
      "dtype: float64\n",
      "\n",
      "Kurtosis:\n",
      "YearsExperience   -1.012212\n",
      "Salary            -1.286372\n",
      "dtype: float64\n"
     ]
    }
   ],
   "source": [
    "# Statistics summary\n",
    "\n",
    "# Menampilkan ringkasan statistik\n",
    "summary_statistics = df.describe()\n",
    "\n",
    "# Menampilkan ringkasan statistik tambahan\n",
    "median = df.median()\n",
    "variance = df.var()\n",
    "skewness = df.skew()\n",
    "kurtosis = df.kurt()\n",
    "\n",
    "# Menampilkan hasil\n",
    "print(\"Ringkasan Statistik:\")\n",
    "print(summary_statistics)\n",
    "print(\"\\nMedian:\")\n",
    "print(median)\n",
    "print(\"\\nVariance:\")\n",
    "print(variance)\n",
    "print(\"\\nSkewness:\")\n",
    "print(skewness)\n",
    "print(\"\\nKurtosis:\")\n",
    "print(kurtosis)\n"
   ]
  },
  {
   "cell_type": "code",
   "execution_count": 12,
   "id": "dfe37922",
   "metadata": {},
   "outputs": [
    {
     "data": {
      "image/png": "[encoded data removed]",
      "text/plain": [
       "<Figure size 640x480 with 1 Axes>"
      ]
     },
     "metadata": {},
     "output_type": "display_data"
    }
   ],
   "source": [
    "# Membuat histogram YearsExperience\n",
    "plt.hist(df['YearsExperience'], bins=10, color='skyblue', edgecolor='black')\n",
    "\n",
    "# Menambahkan label dan judul\n",
    "plt.xlabel('Years of Experience')\n",
    "plt.ylabel('Frequency')\n",
    "plt.title('Histogram of Years of Experience')\n",
    "\n",
    "# Menampilkan histogram\n",
    "plt.show()"
   ]
  },
  {
   "cell_type": "code",
   "execution_count": 13,
   "id": "891570cc",
   "metadata": {},
   "outputs": [
    {
     "data": {
      "image/png": "[encoded data removed]",
      "text/plain": [
       "<Figure size 640x480 with 1 Axes>"
      ]
     },
     "metadata": {},
     "output_type": "display_data"
    }
   ],
   "source": [
    "# Membuat histogram YearsExperience\n",
    "plt.hist(df['Salary'], bins=10, color='skyblue', edgecolor='black')\n",
    "\n",
    "# Menambahkan label dan judul\n",
    "plt.xlabel('Salary')\n",
    "plt.ylabel('Frequency')\n",
    "plt.title('Salary')\n",
    "\n",
    "# Menampilkan histogram\n",
    "plt.show()"
   ]
  },
  {
   "cell_type": "code",
   "execution_count": 14,
   "id": "945f5be1",
   "metadata": {},
   "outputs": [
    {
     "data": {
      "image/png": "[encoded data removed]",
      "text/plain": [
       "<Figure size 640x480 with 1 Axes>"
      ]
     },
     "metadata": {},
     "output_type": "display_data"
    }
   ],
   "source": [
    "# Membuat scatter plot dengan YearsExperience sebagai sumbu x dan Salary sebagai sumbu y\n",
    "plt.scatter(df['YearsExperience'], df['Salary'], color='skyblue', edgecolor='black')\n",
    "\n",
    "# Menambahkan garis dengan warna merah\n",
    "plt.plot(df['YearsExperience'], df['Salary'], color='red', linestyle='-', linewidth=2)\n",
    "\n",
    "# Menambahkan label dan judul\n",
    "plt.xlabel('Years of Experience')\n",
    "plt.ylabel('Salary')\n",
    "plt.title('Scatter Plot with Red Line: Years of Experience vs Salary')\n",
    "\n",
    "# Menampilkan scatter plot\n",
    "plt.show()\n"
   ]
  },
  {
   "cell_type": "code",
   "execution_count": 15,
   "id": "112e16df",
   "metadata": {},
   "outputs": [
    {
     "data": {
      "image/png": "[encoded data removed]",
      "text/plain": [
       "<Figure size 800x600 with 1 Axes>"
      ]
     },
     "metadata": {},
     "output_type": "display_data"
    }
   ],
   "source": [
    "# Visualisasi scatter plot\n",
    "plt.figure(figsize=(8, 6))\n",
    "sns.scatterplot(x='YearsExperience', y='Salary', data=df, color='blue')\n",
    "plt.title('Scatter Plot: YearsExperience vs Salary')\n",
    "plt.xlabel('Years of Experience')\n",
    "plt.ylabel('Salary')\n",
    "plt.show()"
   ]
  },
  {
   "cell_type": "code",
   "execution_count": 16,
   "id": "87b1fcb0",
   "metadata": {},
   "outputs": [
    {
     "data": {
      "image/png": "[encoded data removed]",
      "text/plain": [
       "<Figure size 1000x800 with 2 Axes>"
      ]
     },
     "metadata": {},
     "output_type": "display_data"
    }
   ],
   "source": [
    "# Membuat heatmap\n",
    "plt.figure(figsize=(10, 8))\n",
    "heatmap = sns.heatmap(df.corr(), annot=True, cmap=\"coolwarm\", fmt=\".2f\", linewidths=0.5)\n",
    "\n",
    "# Menambahkan judul\n",
    "plt.title(\"Correlation Heatmap\")\n",
    "\n",
    "# Menampilkan plot\n",
    "plt.show()\n"
   ]
  },
  {
   "cell_type": "markdown",
   "id": "90c5211a",
   "metadata": {},
   "source": [
    "# Modeling"
   ]
  },
  {
   "cell_type": "code",
   "execution_count": 17,
   "id": "c07cdb48",
   "metadata": {},
   "outputs": [
    {
     "name": "stdout",
     "output_type": "stream",
     "text": [
      "    YearsExperience    Salary\n",
      "0               1.2  0.018526\n",
      "1               1.4  0.097387\n",
      "2               1.6  0.000000\n",
      "3               2.1  0.066587\n",
      "4               2.3  0.024824\n",
      "5               3.0  0.217334\n",
      "6               3.1  0.257649\n",
      "7               3.3  0.302248\n",
      "8               3.3  0.307009\n",
      "9               3.8  0.223620\n",
      "10              4.0  0.258212\n",
      "11              4.1  0.207588\n",
      "12              4.1  0.220954\n",
      "13              4.2  0.222379\n",
      "14              4.6  0.268693\n",
      "15              5.0  0.347152\n",
      "16              5.2  0.325213\n",
      "17              5.4  0.521263\n",
      "18              6.0  0.501438\n",
      "19              6.1  0.645979\n",
      "20              6.9  0.620672\n",
      "21              7.2  0.695776\n",
      "22              8.0  0.821265\n",
      "23              8.3  0.874357\n",
      "24              8.8  0.824008\n",
      "25              9.1  0.779774\n",
      "26              9.6  0.846445\n",
      "27              9.7  0.860830\n",
      "28             10.4  0.972950\n",
      "29             10.6  1.000000\n"
     ]
    }
   ],
   "source": [
    "# Memilih fitur yang akan di-scaling\n",
    "feature_to_scale = 'Salary'\n",
    "\n",
    "# Min-Max Scaling\n",
    "min_value = df[feature_to_scale].min()\n",
    "max_value = df[feature_to_scale].max()\n",
    "\n",
    "\n",
    "df[feature_to_scale] = (df[feature_to_scale] - min_value) / (max_value - min_value)\n",
    "\n",
    "\n",
    "# Menampilkan DataFrame setelah scaling\n",
    "print(df)\n",
    "\n",
    "# index 2 0.0000 karena ia adalah nilai terkecil / indikator pembagi sehingga ketika dibagi dirinya sendiri menjadi 0"
   ]
  },
  {
   "cell_type": "code",
   "execution_count": 27,
   "id": "f02b5f66",
   "metadata": {},
   "outputs": [
    {
     "name": "stdout",
     "output_type": "stream",
     "text": [
      "Ukuran train_data: (21, 2)\n",
      "Ukuran test_data: (9, 2)\n"
     ]
    }
   ],
   "source": [
    "# Train Test split -> 0.3 / random_state\n",
    "\n",
    "# Mengacak indeks data\n",
    "np.random.seed(27)  # atur seed untuk reproduktibilitas\n",
    "indices = np.random.permutation(df.index)\n",
    "\n",
    "# Hitung jumlah data untuk training set (70%) dan test set (30%)\n",
    "train_size = int(0.7 * len(df))\n",
    "test_size = len(df) - train_size\n",
    "\n",
    "# Bagi data menjadi training set dan test set\n",
    "train_data = df.loc[indices[:train_size]]\n",
    "test_data = df.loc[indices[train_size:]]\n",
    "\n",
    "# Cek ukuran setelah pembagian\n",
    "print(\"Ukuran train_data:\", train_data.shape)\n",
    "print(\"Ukuran test_data:\", test_data.shape)"
   ]
  },
  {
   "cell_type": "markdown",
   "id": "668126f5",
   "metadata": {},
   "source": [
    "# Evaluasi Model"
   ]
  },
  {
   "cell_type": "code",
   "execution_count": 28,
   "id": "7479bde5",
   "metadata": {
    "scrolled": false
   },
   "outputs": [
    {
     "name": "stdout",
     "output_type": "stream",
     "text": [
      "Train R-squared Score: 0.9552354483119498\n",
      "Test R-squared Score: 0.9354522161066566\n"
     ]
    },
    {
     "data": {
      "image/png": "[encoded data removed]",
      "text/plain": [
       "<Figure size 800x400 with 1 Axes>"
      ]
     },
     "metadata": {},
     "output_type": "display_data"
    }
   ],
   "source": [
    "# Pilih kolom yang ingin digunakan untuk prediksi di set pelatihan\n",
    "X_train = train_data[['YearsExperience']]\n",
    "y_train = train_data['Salary']\n",
    "\n",
    "# Tambahkan kolom bias (bias term)\n",
    "X_train['bias'] = 1\n",
    "\n",
    "# Pilih kolom yang ingin digunakan untuk prediksi di set pengujian\n",
    "X_test = test_data[['YearsExperience']]\n",
    "y_test = test_data['Salary']\n",
    "\n",
    "# Tambahkan kolom bias (bias term)\n",
    "X_test['bias'] = 1\n",
    "\n",
    "# Inisialisasi parameter model (koefisien)\n",
    "theta = np.zeros(X_train.shape[1])\n",
    "\n",
    "def predict(X, theta):\n",
    "    return np.dot(X, theta)\n",
    "\n",
    "# Definisi fungsi gradient descent\n",
    "def gradient_descent(X, y, theta, learning_rate, iterations):\n",
    "    m = len(y)\n",
    "    for _ in range(iterations):\n",
    "        error = predict(X, theta) - y\n",
    "        gradient = 1/m * np.dot(X.T, error)\n",
    "        theta -= learning_rate * gradient\n",
    "    return theta\n",
    "\n",
    "# Definisi fungsi R-squared Score secara manual\n",
    "def r2_score_manual(y_true, y_pred):\n",
    "    mean_y = np.mean(y_true)\n",
    "    ss_total = np.sum((y_true - mean_y)**2)\n",
    "    ss_residual = np.sum((y_true - y_pred)**2)\n",
    "    r2 = 1 - (ss_residual / ss_total)\n",
    "    return r2\n",
    "\n",
    "# Melakukan training dengan gradient descent\n",
    "learning_rate = 0.01\n",
    "iterations = 1000\n",
    "theta = gradient_descent(X_train.values, y_train.values, theta, learning_rate, iterations)\n",
    "\n",
    "# Melakukan prediksi pada set pelatihan\n",
    "y_train_pred = predict(X_train.values, theta)\n",
    "\n",
    "# Menghitung R-squared Score pada data train\n",
    "train_score = r2_score_manual(y_train.values, y_train_pred)\n",
    "print(f\"Train R-squared Score: {train_score}\")\n",
    "\n",
    "\n",
    "# Melakukan prediksi pada set pengujian\n",
    "y_pred = predict(X_test.values, theta)\n",
    "\n",
    "# Menghitung R-squared Score pada data test\n",
    "test_score = r2_score_manual(y_test.values, y_pred)\n",
    "print(f\"Test R-squared Score: {test_score}\")\n",
    "\n",
    "# Membuat scatter plot dan plot regresi linear\n",
    "plt.figure(figsize=(8, 4))\n",
    "plt.scatter(X_test['YearsExperience'], y_test, color='blue')\n",
    "plt.plot(X_test['YearsExperience'], y_pred, color='red', linewidth=2)\n",
    "plt.title(\"Linear Regression without sklearn\")\n",
    "plt.xlabel(\"Years of Experience\")\n",
    "plt.ylabel(\"Salary\")\n",
    "plt.show()\n"
   ]
  },
  {
   "cell_type": "code",
   "execution_count": null,
   "id": "fdae02fb",
   "metadata": {},
   "outputs": [],
   "source": []
  }
 ],
 "metadata": {
  "kernelspec": {
   "display_name": "Python 3 (ipykernel)",
   "language": "python",
   "name": "python3"
  },
  "language_info": {
   "codemirror_mode": {
    "name": "ipython",
    "version": 3
   },
   "file_extension": ".py",
   "mimetype": "text/x-python",
   "name": "python",
   "nbconvert_exporter": "python",
   "pygments_lexer": "ipython3",
   "version": "3.11.5"
  }
 },
 "nbformat": 4,
 "nbformat_minor": 5
}
