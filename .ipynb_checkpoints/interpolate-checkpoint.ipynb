{
 "cells": [
  {
   "cell_type": "code",
   "execution_count": null,
   "metadata": {},
   "outputs": [],
   "source": [
    "import pandas as pd\n",
    "import numpy as np"
   ]
  },
  {
   "cell_type": "code",
   "execution_count": null,
   "metadata": {},
   "outputs": [],
   "source": [
    "import pandas as pd\n",
    "\n",
    "# Membaca data dari file CSV\n",
    "data = pd.read_csv(\"Salary_dataset_1.csv\")\n",
    "\n",
    "# Membuat salinan DataFrame\n",
    "data_up = data.copy()\n",
    "\n",
    "# Menggunakan metode interpolasi untuk mengisi nilai NaN dalam kolom \"Salary\"\n",
    "data_up['Salary'].interpolate(inplace=True)\n",
    "\n",
    "# Menyimpan DataFrame yang telah diubah ke dalam file CSV baru\n",
    "data_up.to_csv(\"Salary_dataset_1_updated.csv\", index=False)\n",
    "\n",
    "# Menampilkan DataFrame yang telah diubah\n",
    "data_up\n"
   ]
  }
 ],
 "metadata": {
  "kernelspec": {
   "display_name": "Python 3 (ipykernel)",
   "language": "python",
   "name": "python3"
  },
  "language_info": {
   "codemirror_mode": {
    "name": "ipython",
    "version": 3
   },
   "file_extension": ".py",
   "mimetype": "text/x-python",
   "name": "python",
   "nbconvert_exporter": "python",
   "pygments_lexer": "ipython3",
   "version": "3.11.5"
  }
 },
 "nbformat": 4,
 "nbformat_minor": 2
}
