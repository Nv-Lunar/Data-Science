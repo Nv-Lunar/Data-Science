{
 "cells": [
  {
   "cell_type": "code",
   "execution_count": 2,
   "id": "eb5ab27d",
   "metadata": {},
   "outputs": [],
   "source": [
    "import numpy as np\n",
    "import pandas as pd"
   ]
  },
  {
   "cell_type": "code",
   "execution_count": 3,
   "id": "ec4d7ede",
   "metadata": {},
   "outputs": [
    {
     "name": "stderr",
     "output_type": "stream",
     "text": [
      "C:\\Users\\azrul\\AppData\\Local\\Temp\\ipykernel_17012\\2061566770.py:1: DtypeWarning: Columns (25,108) have mixed types. Specify dtype option on import or set low_memory=False.\n",
      "  players = pd.read_csv(\"players_22.csv\")\n"
     ]
    }
   ],
   "source": [
    "players = pd.read_csv(\"players_22.csv\")"
   ]
  },
  {
   "cell_type": "code",
   "execution_count": 4,
   "id": "3a75598e",
   "metadata": {},
   "outputs": [],
   "source": [
    "features = [\"overall\", \"potential\", \"wage_eur\", \"value_eur\", \"age\"]"
   ]
  },
  {
   "cell_type": "code",
   "execution_count": 5,
   "id": "e69aa7b5",
   "metadata": {},
   "outputs": [],
   "source": [
    "players = players.dropna(subset=features)"
   ]
  },
  {
   "cell_type": "code",
   "execution_count": 6,
   "id": "98bdb2d8",
   "metadata": {},
   "outputs": [],
   "source": [
    "data = players[features].copy()"
   ]
  },
  {
   "cell_type": "code",
   "execution_count": 7,
   "id": "10f01620",
   "metadata": {},
   "outputs": [],
   "source": [
    "data = ((data - data.min()) / (data.max() - data.min())) * 10 + 1"
   ]
  },
  {
   "cell_type": "code",
   "execution_count": 17,
   "id": "8d3c36a9",
   "metadata": {},
   "outputs": [
    {
     "data": {
      "text/plain": [
       "overall      1.0\n",
       "potential    1.0\n",
       "wage_eur     1.0\n",
       "value_eur    1.0\n",
       "age          1.0\n",
       "dtype: float64"
      ]
     },
     "execution_count": 17,
     "metadata": {},
     "output_type": "execute_result"
    }
   ],
   "source": []
  },
  {
   "cell_type": "code",
   "execution_count": null,
   "id": "c20fdfbf",
   "metadata": {},
   "outputs": [],
   "source": []
  },
  {
   "cell_type": "code",
   "execution_count": null,
   "id": "c28364e9",
   "metadata": {},
   "outputs": [],
   "source": []
  },
  {
   "cell_type": "code",
   "execution_count": 12,
   "id": "337447a3",
   "metadata": {},
   "outputs": [
    {
     "name": "stdout",
     "output_type": "stream",
     "text": [
      "Cluster Assignments: [2 2 2 ... 0 0 0]\n",
      "Final Centroids:     overall  potential  wage_eur  value_eur       age\n",
      "0  3.878703   5.666186  1.043926   1.039377  2.900257\n",
      "1  5.225866   4.895247  1.125837   1.044548  6.123870\n",
      "2  6.798314   7.242210  1.723968   1.456254  4.475683\n"
     ]
    }
   ],
   "source": [
    "class KMeans:\n",
    "    def __init__(self, n_clusters, max_iters=100):\n",
    "        self.n_clusters = n_clusters\n",
    "        self.max_iters = max_iters\n",
    "\n",
    "    def fit(self, X):\n",
    "        # Initialize centroids randomly\n",
    "        self.centroids = X.iloc[np.random.choice(X.shape[0], self.n_clusters, replace=False)]\n",
    "        \n",
    "        for _ in range(self.max_iters):\n",
    "            # Assign each data point to the nearest centroid\n",
    "            labels = self._assign_labels(X)\n",
    "            \n",
    "            # Update centroids\n",
    "            new_centroids = self._update_centroids(X, labels)\n",
    "            \n",
    "            # Check for convergence\n",
    "            if np.all(self.centroids.values == new_centroids.values):\n",
    "                break\n",
    "                \n",
    "            self.centroids = new_centroids\n",
    "\n",
    "    def _assign_labels(self, X):\n",
    "        # Compute distances from each data point to centroids\n",
    "        distances = np.linalg.norm(X.values[:, np.newaxis] - self.centroids.values, axis=2)\n",
    "        \n",
    "        # Assign labels based on the nearest centroid\n",
    "        return np.argmin(distances, axis=1)\n",
    "    \n",
    "    def _update_centroids(self, X, labels):\n",
    "        new_centroids = pd.DataFrame([X.iloc[labels == i].mean(axis=0) for i in range(self.n_clusters)],\n",
    "                                      columns=self.centroids.columns)\n",
    "        return new_centroids\n",
    "\n",
    "# Assume 'custom_data' is your own dataset (replace this with your actual dataset)\n",
    "# custom_data = ...\n",
    "\n",
    "# Create a K-Means instance with 3 clusters\n",
    "kmeans = KMeans(n_clusters=3)\n",
    "\n",
    "# Fit the model to the data\n",
    "kmeans.fit(data)\n",
    "\n",
    "# Get cluster assignments for each data point\n",
    "labels = kmeans._assign_labels(data)\n",
    "\n",
    "print(\"Cluster Assignments:\", labels)\n",
    "print(\"Final Centroids:\", kmeans.centroids)\n"
   ]
  },
  {
   "cell_type": "code",
   "execution_count": 15,
   "id": "ccebd579",
   "metadata": {},
   "outputs": [
    {
     "data": {
      "text/html": [
       "<div>\n",
       "<style scoped>\n",
       "    .dataframe tbody tr th:only-of-type {\n",
       "        vertical-align: middle;\n",
       "    }\n",
       "\n",
       "    .dataframe tbody tr th {\n",
       "        vertical-align: top;\n",
       "    }\n",
       "\n",
       "    .dataframe thead th {\n",
       "        text-align: right;\n",
       "    }\n",
       "</style>\n",
       "<table border=\"1\" class=\"dataframe\">\n",
       "  <thead>\n",
       "    <tr style=\"text-align: right;\">\n",
       "      <th></th>\n",
       "      <th>0</th>\n",
       "      <th>1</th>\n",
       "      <th>2</th>\n",
       "    </tr>\n",
       "  </thead>\n",
       "  <tbody>\n",
       "    <tr>\n",
       "      <th>overall</th>\n",
       "      <td>3.878703</td>\n",
       "      <td>5.225866</td>\n",
       "      <td>6.798314</td>\n",
       "    </tr>\n",
       "    <tr>\n",
       "      <th>potential</th>\n",
       "      <td>5.666186</td>\n",
       "      <td>4.895247</td>\n",
       "      <td>7.242210</td>\n",
       "    </tr>\n",
       "    <tr>\n",
       "      <th>wage_eur</th>\n",
       "      <td>1.043926</td>\n",
       "      <td>1.125837</td>\n",
       "      <td>1.723968</td>\n",
       "    </tr>\n",
       "    <tr>\n",
       "      <th>value_eur</th>\n",
       "      <td>1.039377</td>\n",
       "      <td>1.044548</td>\n",
       "      <td>1.456254</td>\n",
       "    </tr>\n",
       "    <tr>\n",
       "      <th>age</th>\n",
       "      <td>2.900257</td>\n",
       "      <td>6.123870</td>\n",
       "      <td>4.475683</td>\n",
       "    </tr>\n",
       "  </tbody>\n",
       "</table>\n",
       "</div>"
      ],
      "text/plain": [
       "                  0         1         2\n",
       "overall    3.878703  5.225866  6.798314\n",
       "potential  5.666186  4.895247  7.242210\n",
       "wage_eur   1.043926  1.125837  1.723968\n",
       "value_eur  1.039377  1.044548  1.456254\n",
       "age        2.900257  6.123870  4.475683"
      ]
     },
     "execution_count": 15,
     "metadata": {},
     "output_type": "execute_result"
    }
   ],
   "source": [
    "kmeans.centroids.T"
   ]
  },
  {
   "cell_type": "code",
   "execution_count": 16,
   "id": "f47e7397",
   "metadata": {},
   "outputs": [
    {
     "data": {
      "text/html": [
       "<div>\n",
       "<style scoped>\n",
       "    .dataframe tbody tr th:only-of-type {\n",
       "        vertical-align: middle;\n",
       "    }\n",
       "\n",
       "    .dataframe tbody tr th {\n",
       "        vertical-align: top;\n",
       "    }\n",
       "\n",
       "    .dataframe thead th {\n",
       "        text-align: right;\n",
       "    }\n",
       "</style>\n",
       "<table border=\"1\" class=\"dataframe\">\n",
       "  <thead>\n",
       "    <tr style=\"text-align: right;\">\n",
       "      <th></th>\n",
       "      <th>overall</th>\n",
       "      <th>potential</th>\n",
       "      <th>wage_eur</th>\n",
       "      <th>value_eur</th>\n",
       "      <th>age</th>\n",
       "    </tr>\n",
       "  </thead>\n",
       "  <tbody>\n",
       "    <tr>\n",
       "      <th>0</th>\n",
       "      <td>11.000000</td>\n",
       "      <td>10.565217</td>\n",
       "      <td>10.141631</td>\n",
       "      <td>5.020341</td>\n",
       "      <td>7.666667</td>\n",
       "    </tr>\n",
       "    <tr>\n",
       "      <th>1</th>\n",
       "      <td>10.782609</td>\n",
       "      <td>10.347826</td>\n",
       "      <td>8.711016</td>\n",
       "      <td>7.159616</td>\n",
       "      <td>6.925926</td>\n",
       "    </tr>\n",
       "    <tr>\n",
       "      <th>2</th>\n",
       "      <td>10.565217</td>\n",
       "      <td>10.130435</td>\n",
       "      <td>8.711016</td>\n",
       "      <td>3.319231</td>\n",
       "      <td>8.407407</td>\n",
       "    </tr>\n",
       "    <tr>\n",
       "      <th>3</th>\n",
       "      <td>10.565217</td>\n",
       "      <td>10.130435</td>\n",
       "      <td>8.711016</td>\n",
       "      <td>7.649329</td>\n",
       "      <td>5.814815</td>\n",
       "    </tr>\n",
       "    <tr>\n",
       "      <th>4</th>\n",
       "      <td>10.565217</td>\n",
       "      <td>10.130435</td>\n",
       "      <td>11.000000</td>\n",
       "      <td>7.468908</td>\n",
       "      <td>6.185185</td>\n",
       "    </tr>\n",
       "  </tbody>\n",
       "</table>\n",
       "</div>"
      ],
      "text/plain": [
       "     overall  potential   wage_eur  value_eur       age\n",
       "0  11.000000  10.565217  10.141631   5.020341  7.666667\n",
       "1  10.782609  10.347826   8.711016   7.159616  6.925926\n",
       "2  10.565217  10.130435   8.711016   3.319231  8.407407\n",
       "3  10.565217  10.130435   8.711016   7.649329  5.814815\n",
       "4  10.565217  10.130435  11.000000   7.468908  6.185185"
      ]
     },
     "execution_count": 16,
     "metadata": {},
     "output_type": "execute_result"
    }
   ],
   "source": [
    "data.head()"
   ]
  },
  {
   "cell_type": "code",
   "execution_count": null,
   "id": "68639c90",
   "metadata": {},
   "outputs": [],
   "source": []
  }
 ],
 "metadata": {
  "kernelspec": {
   "display_name": "Python 3 (ipykernel)",
   "language": "python",
   "name": "python3"
  },
  "language_info": {
   "codemirror_mode": {
    "name": "ipython",
    "version": 3
   },
   "file_extension": ".py",
   "mimetype": "text/x-python",
   "name": "python",
   "nbconvert_exporter": "python",
   "pygments_lexer": "ipython3",
   "version": "3.11.5"
  }
 },
 "nbformat": 4,
 "nbformat_minor": 5
}
