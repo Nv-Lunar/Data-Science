{
 "cells": [
  {
   "cell_type": "code",
   "execution_count": 1,
   "id": "bcae17cc",
   "metadata": {},
   "outputs": [
    {
     "name": "stdout",
     "output_type": "stream",
     "text": [
      "Kemiringan (m1): 3.6803965761778016e-16\n",
      "Kemiringan (m2): 1.0\n",
      "Intercept (b): 1.0000000000000007\n"
     ]
    }
   ],
   "source": [
    "import numpy as np\n",
    "\n",
    "def linear_regression_multiple(x1, x2, y):\n",
    "    X = np.column_stack((x1, x2, np.ones_like(x1)))  # Menambahkan kolom 1 untuk intercept\n",
    "    coefficients = np.linalg.lstsq(X, y, rcond=None)[0]\n",
    "    return coefficients\n",
    "\n",
    "# Contoh penggunaan\n",
    "x1 = np.array([1, 2, 3, 4, 5])\n",
    "x2 = np.array([2, 3, 4, 5, 6])\n",
    "y = np.array([3, 4, 5, 6, 7])\n",
    "\n",
    "coefficients = linear_regression_multiple(x1, x2, y)\n",
    "\n",
    "print(f\"Kemiringan (m1): {coefficients[0]}\")\n",
    "print(f\"Kemiringan (m2): {coefficients[1]}\")\n",
    "print(f\"Intercept (b): {coefficients[2]}\")\n"
   ]
  },
  {
   "cell_type": "code",
   "execution_count": 9,
   "id": "c252672c",
   "metadata": {},
   "outputs": [
    {
     "name": "stdout",
     "output_type": "stream",
     "text": [
      "Kemiringan (m): 1.0\n",
      "Intercept (b): 1.0\n"
     ]
    }
   ],
   "source": [
    "import numpy as np\n",
    "\n",
    "def linear_regression(x, y):\n",
    "    n = len(x)\n",
    "    \n",
    "    # Hitung berbagai jumlah yang diperlukan\n",
    "    sum_x = np.sum(x)\n",
    "    sum_y = np.sum(y)\n",
    "    sum_xy = np.sum(x * y)\n",
    "    sum_x_squared = np.sum(x**2)\n",
    "    \n",
    "    # Hitung kemiringan (m) dan intercept (b) menggunakan rumus regresi linear sederhana\n",
    "    m = (n * sum_xy - sum_x * sum_y) / (n * sum_x_squared - sum_x**2)\n",
    "    b = (sum_y - m * sum_x) / n\n",
    "    \n",
    "    return m, b\n",
    "\n",
    "# Contoh penggunaan\n",
    "x = np.array([1, 2, 3, 4, 5])\n",
    "y = np.array([2, 3, 4, 5, 6])\n",
    "\n",
    "m, b = linear_regression(x, y)\n",
    "\n",
    "print(f\"Kemiringan (m): {m}\")\n",
    "print(f\"Intercept (b): {b}\")\n"
   ]
  },
  {
   "cell_type": "code",
   "execution_count": 10,
   "id": "f6fdfa48",
   "metadata": {},
   "outputs": [
    {
     "name": "stdout",
     "output_type": "stream",
     "text": [
      "Kemiringan (m): 1.0\n",
      "Intercept (b): 1.0\n"
     ]
    }
   ],
   "source": [
    "from sklearn.linear_model import LinearRegression\n",
    "import numpy as np\n",
    "\n",
    "X = np.array([1, 2, 3, 4, 5]).reshape(-1, 1)\n",
    "# Membuat model regresi linear\n",
    "model = LinearRegression()\n",
    "\n",
    "# Melatih model menggunakan data\n",
    "model.fit(X, y)\n",
    "\n",
    "# Mencetak kemiringan (slope) dan intercept dari model\n",
    "print(f\"Kemiringan (m): {model.coef_[0]}\")\n",
    "print(f\"Intercept (b): {model.intercept_}\")\n"
   ]
  },
  {
   "cell_type": "code",
   "execution_count": null,
   "id": "50352ac7",
   "metadata": {},
   "outputs": [],
   "source": []
  }
 ],
 "metadata": {
  "kernelspec": {
   "display_name": "Python 3 (ipykernel)",
   "language": "python",
   "name": "python3"
  },
  "language_info": {
   "codemirror_mode": {
    "name": "ipython",
    "version": 3
   },
   "file_extension": ".py",
   "mimetype": "text/x-python",
   "name": "python",
   "nbconvert_exporter": "python",
   "pygments_lexer": "ipython3",
   "version": "3.11.5"
  }
 },
 "nbformat": 4,
 "nbformat_minor": 5
}
