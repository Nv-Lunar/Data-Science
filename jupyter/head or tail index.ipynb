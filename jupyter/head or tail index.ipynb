{
 "cells": [
  {
   "cell_type": "code",
   "execution_count": 1,
   "id": "66fe5321",
   "metadata": {},
   "outputs": [],
   "source": [
    "import pandas as pd"
   ]
  },
  {
   "cell_type": "code",
   "execution_count": 19,
   "id": "705cb001",
   "metadata": {},
   "outputs": [
    {
     "data": {
      "text/plain": [
       "0     Location 3\n",
       "1     Location 6\n",
       "2     Location 8\n",
       "3    Location 26\n",
       "4    Location 34\n",
       "Name: Location, dtype: object"
      ]
     },
     "execution_count": 19,
     "metadata": {},
     "output_type": "execute_result"
    }
   ],
   "source": [
    "# data = pd.read_csv('Location.csv').squeeze(\"columns\")\n",
    "# location_data = data.copy\n",
    "# location_data\n",
    "\n",
    "data = pd.read_csv('Location.csv')\n",
    "data = data.squeeze('columns')\n",
    "location_data = data.copy()\n",
    "location_data.head()"
   ]
  },
  {
   "cell_type": "code",
   "execution_count": 20,
   "id": "43804722",
   "metadata": {},
   "outputs": [
    {
     "data": {
      "text/plain": [
       "RangeIndex(start=0, stop=1043, step=1)"
      ]
     },
     "execution_count": 20,
     "metadata": {},
     "output_type": "execute_result"
    }
   ],
   "source": [
    "location_data.index"
   ]
  },
  {
   "cell_type": "code",
   "execution_count": 21,
   "id": "0652d4d2",
   "metadata": {},
   "outputs": [
    {
     "data": {
      "text/plain": [
       "'Location'"
      ]
     },
     "execution_count": 21,
     "metadata": {},
     "output_type": "execute_result"
    }
   ],
   "source": [
    "location_data.name"
   ]
  },
  {
   "cell_type": "code",
   "execution_count": 36,
   "id": "659da462",
   "metadata": {},
   "outputs": [
    {
     "data": {
      "text/plain": [
       "Dota\n",
       "0        Location 3\n",
       "1        Location 6\n",
       "2        Location 8\n",
       "3       Location 26\n",
       "4       Location 34\n",
       "           ...     \n",
       "1038    Location 73\n",
       "1039    Location 82\n",
       "1040    Location 11\n",
       "1041    Location 26\n",
       "1042    Location 94\n",
       "Name: Location, Length: 1043, dtype: object"
      ]
     },
     "execution_count": 36,
     "metadata": {},
     "output_type": "execute_result"
    }
   ],
   "source": [
    "location_data"
   ]
  },
  {
   "cell_type": "code",
   "execution_count": 28,
   "id": "6091bfdf",
   "metadata": {},
   "outputs": [],
   "source": [
    "location_data.index.name = 'Dota'"
   ]
  },
  {
   "cell_type": "code",
   "execution_count": 29,
   "id": "d868fdac",
   "metadata": {},
   "outputs": [
    {
     "data": {
      "text/plain": [
       "Dota\n",
       "0        Location 3\n",
       "1        Location 6\n",
       "2        Location 8\n",
       "3       Location 26\n",
       "4       Location 34\n",
       "           ...     \n",
       "1038    Location 73\n",
       "1039    Location 82\n",
       "1040    Location 11\n",
       "1041    Location 26\n",
       "1042    Location 94\n",
       "Name: Location, Length: 1043, dtype: object"
      ]
     },
     "execution_count": 29,
     "metadata": {},
     "output_type": "execute_result"
    }
   ],
   "source": [
    "location_data"
   ]
  },
  {
   "cell_type": "code",
   "execution_count": 30,
   "id": "cc7025ea",
   "metadata": {},
   "outputs": [
    {
     "data": {
      "text/plain": [
       "'Dota'"
      ]
     },
     "execution_count": 30,
     "metadata": {},
     "output_type": "execute_result"
    }
   ],
   "source": [
    "location_data.index.name"
   ]
  },
  {
   "cell_type": "code",
   "execution_count": 31,
   "id": "3e9e6365",
   "metadata": {},
   "outputs": [
    {
     "data": {
      "text/plain": [
       "Dota\n",
       "637     Location 1\n",
       "884     Location 1\n",
       "465     Location 1\n",
       "716    Location 10\n",
       "623    Location 10\n",
       "          ...     \n",
       "482    Location 97\n",
       "128    Location 97\n",
       "669    Location 97\n",
       "757    Location 98\n",
       "372    Location 99\n",
       "Name: Location, Length: 1043, dtype: object"
      ]
     },
     "execution_count": 31,
     "metadata": {},
     "output_type": "execute_result"
    }
   ],
   "source": [
    "location_data.sort_values()"
   ]
  },
  {
   "cell_type": "code",
   "execution_count": 37,
   "id": "da331833",
   "metadata": {},
   "outputs": [
    {
     "data": {
      "text/plain": [
       "Dota\n",
       "637     Location 1\n",
       "884     Location 1\n",
       "465     Location 1\n",
       "716    Location 10\n",
       "623    Location 10\n",
       "Name: Location, dtype: object"
      ]
     },
     "execution_count": 37,
     "metadata": {},
     "output_type": "execute_result"
    }
   ],
   "source": [
    "location_data.sort_values().head()"
   ]
  },
  {
   "cell_type": "code",
   "execution_count": 44,
   "id": "b26152e6",
   "metadata": {},
   "outputs": [
    {
     "data": {
      "text/plain": [
       "Dota\n",
       "202    Location 10\n",
       "298    Location 10\n",
       "637     Location 1\n",
       "884     Location 1\n",
       "465     Location 1\n",
       "Name: Location, dtype: object"
      ]
     },
     "execution_count": 44,
     "metadata": {},
     "output_type": "execute_result"
    }
   ],
   "source": [
    "location_data.sort_values(ascending = False).tail()"
   ]
  },
  {
   "cell_type": "code",
   "execution_count": 39,
   "id": "55abeee7",
   "metadata": {},
   "outputs": [
    {
     "data": {
      "text/plain": [
       "RangeIndex(start=0, stop=1043, step=1, name='Dota')"
      ]
     },
     "execution_count": 39,
     "metadata": {},
     "output_type": "execute_result"
    }
   ],
   "source": [
    "location_data.index"
   ]
  },
  {
   "cell_type": "code",
   "execution_count": 40,
   "id": "079c2f18",
   "metadata": {},
   "outputs": [
    {
     "data": {
      "text/plain": [
       "pandas.core.indexes.range.RangeIndex"
      ]
     },
     "execution_count": 40,
     "metadata": {},
     "output_type": "execute_result"
    }
   ],
   "source": [
    "type(location_data.index)"
   ]
  },
  {
   "cell_type": "code",
   "execution_count": 43,
   "id": "bf3ee3a8",
   "metadata": {},
   "outputs": [
    {
     "data": {
      "text/plain": [
       "array([   0,    1,    2, ..., 1040, 1041, 1042], dtype=int64)"
      ]
     },
     "execution_count": 43,
     "metadata": {},
     "output_type": "execute_result"
    }
   ],
   "source": [
    "location_data.index.to_numpy()"
   ]
  },
  {
   "cell_type": "code",
   "execution_count": null,
   "id": "f76e3198",
   "metadata": {},
   "outputs": [],
   "source": []
  }
 ],
 "metadata": {
  "kernelspec": {
   "display_name": "Python 3 (ipykernel)",
   "language": "python",
   "name": "python3"
  },
  "language_info": {
   "codemirror_mode": {
    "name": "ipython",
    "version": 3
   },
   "file_extension": ".py",
   "mimetype": "text/x-python",
   "name": "python",
   "nbconvert_exporter": "python",
   "pygments_lexer": "ipython3",
   "version": "3.11.5"
  }
 },
 "nbformat": 4,
 "nbformat_minor": 5
}
