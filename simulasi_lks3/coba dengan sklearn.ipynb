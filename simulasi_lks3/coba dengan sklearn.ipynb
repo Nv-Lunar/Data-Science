{
 "cells": [
  {
   "cell_type": "code",
   "execution_count": 1,
   "id": "2fde08a2",
   "metadata": {},
   "outputs": [],
   "source": [
    "import pandas as pd\n",
    "import numpy as np"
   ]
  },
  {
   "cell_type": "code",
   "execution_count": 2,
   "id": "dfb35c2e",
   "metadata": {},
   "outputs": [],
   "source": [
    "df = pd.read_csv('winequality-red.csv')\n",
    "df = df.copy()"
   ]
  },
  {
   "cell_type": "code",
   "execution_count": 3,
   "id": "3b24b226",
   "metadata": {},
   "outputs": [
    {
     "name": "stdout",
     "output_type": "stream",
     "text": [
      "<class 'pandas.core.frame.DataFrame'>\n",
      "RangeIndex: 1599 entries, 0 to 1598\n",
      "Data columns (total 12 columns):\n",
      " #   Column                Non-Null Count  Dtype  \n",
      "---  ------                --------------  -----  \n",
      " 0   fixed acidity         1599 non-null   float64\n",
      " 1   volatile acidity      1599 non-null   float64\n",
      " 2   citric acid           1599 non-null   float64\n",
      " 3   residual sugar        1599 non-null   float64\n",
      " 4   chlorides             1599 non-null   float64\n",
      " 5   free sulfur dioxide   1599 non-null   float64\n",
      " 6   total sulfur dioxide  1599 non-null   float64\n",
      " 7   density               1599 non-null   float64\n",
      " 8   pH                    1599 non-null   float64\n",
      " 9   sulphates             1599 non-null   float64\n",
      " 10  alcohol               1599 non-null   float64\n",
      " 11  quality               1599 non-null   int64  \n",
      "dtypes: float64(11), int64(1)\n",
      "memory usage: 150.0 KB\n"
     ]
    }
   ],
   "source": [
    "df.info()"
   ]
  },
  {
   "cell_type": "code",
   "execution_count": 4,
   "id": "84528ecb",
   "metadata": {},
   "outputs": [
    {
     "data": {
      "text/plain": [
       "240"
      ]
     },
     "execution_count": 4,
     "metadata": {},
     "output_type": "execute_result"
    }
   ],
   "source": [
    "df.duplicated().sum()"
   ]
  },
  {
   "cell_type": "code",
   "execution_count": 5,
   "id": "8b24ffa7",
   "metadata": {},
   "outputs": [],
   "source": [
    "# hapus data yang terduplikat dan simpan perubahan\n",
    "df.drop_duplicates(inplace = True)"
   ]
  },
  {
   "cell_type": "code",
   "execution_count": null,
   "id": "4f637cea",
   "metadata": {},
   "outputs": [],
   "source": []
  },
  {
   "cell_type": "code",
   "execution_count": 6,
   "id": "098b521d",
   "metadata": {},
   "outputs": [],
   "source": [
    "X = df[['fixed acidity', 'volatile acidity', 'sulphates', 'alcohol', 'density']]\n",
    "y = df.quality\n"
   ]
  },
  {
   "cell_type": "code",
   "execution_count": 7,
   "id": "856e6244",
   "metadata": {},
   "outputs": [],
   "source": [
    "from sklearn.model_selection import train_test_split"
   ]
  },
  {
   "cell_type": "code",
   "execution_count": 8,
   "id": "416b1096",
   "metadata": {},
   "outputs": [
    {
     "data": {
      "text/plain": [
       "((951, 5), (408, 5))"
      ]
     },
     "execution_count": 8,
     "metadata": {},
     "output_type": "execute_result"
    }
   ],
   "source": [
    "X_train, X_test, y_train, y_test = train_test_split(X, y, test_size=0.3, random_state=20)\n",
    "X_train.shape, X_test.shape\n"
   ]
  },
  {
   "cell_type": "code",
   "execution_count": 9,
   "id": "7fa836ac",
   "metadata": {},
   "outputs": [],
   "source": [
    "from sklearn.preprocessing import StandardScaler\n",
    "# scale with StandardScaler\n",
    "scaler = StandardScaler()\n",
    "\n",
    "# fit to data training\n",
    "scaler.fit(X_train)\n",
    "\n",
    "# transform\n",
    "x_train = scaler.transform(X_train)\n",
    "x_test = scaler.transform(X_test)"
   ]
  },
  {
   "cell_type": "code",
   "execution_count": 10,
   "id": "01ad3663",
   "metadata": {},
   "outputs": [
    {
     "data": {
      "text/plain": [
       "0.553921568627451"
      ]
     },
     "execution_count": 10,
     "metadata": {},
     "output_type": "execute_result"
    }
   ],
   "source": [
    "from sklearn.ensemble import RandomForestClassifier\n",
    "from sklearn.metrics import accuracy_score\n",
    "\n",
    "rf = RandomForestClassifier(random_state = 42)\n",
    "rf.fit(x_train, y_train)\n",
    "accuracy_score(y_test, rf.predict(x_test))"
   ]
  },
  {
   "cell_type": "code",
   "execution_count": 13,
   "id": "3d49e8d7",
   "metadata": {},
   "outputs": [],
   "source": [
    "# Fungsi untuk membuat pohon keputusan\n",
    "class DecisionTree:\n",
    "    def __init__(self, max_depth=None):\n",
    "        self.max_depth = max_depth\n",
    "        self.tree = None\n",
    "\n",
    "    def fit(self, X, y):\n",
    "        self.tree = self._build_tree(X, y, depth=0)\n",
    "\n",
    "    def _build_tree(self, X, y, depth):\n",
    "        # Logika untuk membangun pohon keputusan, bisa diimplementasikan sesuai kebutuhan\n",
    "        pass\n",
    "\n",
    "    def predict(self, X):\n",
    "        # Logika untuk membuat prediksi menggunakan pohon keputusan, bisa diimplementasikan sesuai kebutuhan\n",
    "        pass\n",
    "\n",
    "# Fungsi untuk membuat model Random Forest\n",
    "def random_forest_classifier(df, target_column, n_trees=100, max_depth=None, subsample_size=None, random_state=None):\n",
    "    trees = []\n",
    "    for _ in range(n_trees):\n",
    "        sampled_df = df.sample(frac=subsample_size, random_state=random_state)\n",
    "        \n",
    "        if target_column not in df.columns:\n",
    "            raise KeyError(f\"'{target_column}' not found in DataFrame columns.\")\n",
    "        \n",
    "        tree = DecisionTree(max_depth=max_depth)\n",
    "        tree.fit(sampled_df.drop(target_column, axis=1), sampled_df[target_column])\n",
    "        trees.append(tree)\n",
    "\n",
    "    return trees\n",
    "\n",
    "# Fungsi untuk membuat prediksi dari Random Forest\n",
    "def predict_random_forest(model, X):\n",
    "    predictions = [tree.predict(X) for tree in model]\n",
    "    final_predictions = [max(set(prediction), key=prediction.count) for prediction in zip(*predictions)]\n",
    "    return final_predictions\n",
    "\n",
    "# Fungsi untuk menghitung akurasi\n",
    "def calculate_accuracy(y_true, y_pred):\n",
    "    correct_predictions = np.sum(y_true == y_pred)\n",
    "    total_samples = len(y_true)\n",
    "    accuracy = correct_predictions / total_samples\n",
    "    return accuracy"
   ]
  },
  {
   "cell_type": "code",
   "execution_count": 18,
   "id": "03d11cf2",
   "metadata": {},
   "outputs": [
    {
     "ename": "KeyError",
     "evalue": "\"'quality' not found in DataFrame columns.\"",
     "output_type": "error",
     "traceback": [
      "\u001b[1;31m---------------------------------------------------------------------------\u001b[0m",
      "\u001b[1;31mKeyError\u001b[0m                                  Traceback (most recent call last)",
      "Cell \u001b[1;32mIn[18], line 4\u001b[0m\n\u001b[0;32m      1\u001b[0m target_column \u001b[38;5;241m=\u001b[39m \u001b[38;5;124m'\u001b[39m\u001b[38;5;124mquality\u001b[39m\u001b[38;5;124m'\u001b[39m\n\u001b[0;32m      3\u001b[0m \u001b[38;5;66;03m# Buat model Random Forest\u001b[39;00m\n\u001b[1;32m----> 4\u001b[0m rf_model \u001b[38;5;241m=\u001b[39m random_forest_classifier(X_train, target_column, n_trees\u001b[38;5;241m=\u001b[39m\u001b[38;5;241m100\u001b[39m, max_depth\u001b[38;5;241m=\u001b[39m\u001b[38;5;28;01mNone\u001b[39;00m, subsample_size\u001b[38;5;241m=\u001b[39m\u001b[38;5;241m0.8\u001b[39m, random_state\u001b[38;5;241m=\u001b[39m\u001b[38;5;241m42\u001b[39m)\n\u001b[0;32m      6\u001b[0m \u001b[38;5;66;03m# Buat prediksi pada data uji\u001b[39;00m\n\u001b[0;32m      7\u001b[0m rf_predictions \u001b[38;5;241m=\u001b[39m predict_random_forest(rf_model, test_df\u001b[38;5;241m.\u001b[39mdrop(target_column, axis\u001b[38;5;241m=\u001b[39m\u001b[38;5;241m1\u001b[39m))\n",
      "Cell \u001b[1;32mIn[13], line 25\u001b[0m, in \u001b[0;36mrandom_forest_classifier\u001b[1;34m(df, target_column, n_trees, max_depth, subsample_size, random_state)\u001b[0m\n\u001b[0;32m     22\u001b[0m sampled_df \u001b[38;5;241m=\u001b[39m df\u001b[38;5;241m.\u001b[39msample(frac\u001b[38;5;241m=\u001b[39msubsample_size, random_state\u001b[38;5;241m=\u001b[39mrandom_state)\n\u001b[0;32m     24\u001b[0m \u001b[38;5;28;01mif\u001b[39;00m target_column \u001b[38;5;129;01mnot\u001b[39;00m \u001b[38;5;129;01min\u001b[39;00m df\u001b[38;5;241m.\u001b[39mcolumns:\n\u001b[1;32m---> 25\u001b[0m     \u001b[38;5;28;01mraise\u001b[39;00m \u001b[38;5;167;01mKeyError\u001b[39;00m(\u001b[38;5;124mf\u001b[39m\u001b[38;5;124m\"\u001b[39m\u001b[38;5;124m'\u001b[39m\u001b[38;5;132;01m{\u001b[39;00mtarget_column\u001b[38;5;132;01m}\u001b[39;00m\u001b[38;5;124m'\u001b[39m\u001b[38;5;124m not found in DataFrame columns.\u001b[39m\u001b[38;5;124m\"\u001b[39m)\n\u001b[0;32m     27\u001b[0m tree \u001b[38;5;241m=\u001b[39m DecisionTree(max_depth\u001b[38;5;241m=\u001b[39mmax_depth)\n\u001b[0;32m     28\u001b[0m tree\u001b[38;5;241m.\u001b[39mfit(sampled_df\u001b[38;5;241m.\u001b[39mdrop(target_column, axis\u001b[38;5;241m=\u001b[39m\u001b[38;5;241m1\u001b[39m), sampled_df[target_column])\n",
      "\u001b[1;31mKeyError\u001b[0m: \"'quality' not found in DataFrame columns.\""
     ]
    }
   ],
   "source": [
    "target_column = 'quality'\n",
    "\n",
    "# Buat model Random Forest\n",
    "rf_model = random_forest_classifier(X_train, target_column, n_trees=100, max_depth=None, subsample_size=0.8, random_state=42)\n",
    "\n",
    "# Buat prediksi pada data uji\n",
    "rf_predictions = predict_random_forest(rf_model, test_df.drop(target_column, axis=1))\n",
    "\n",
    "# Hitung akurasi\n",
    "accuracy = calculate_accuracy(test_df[target_column].values, rf_predictions)\n",
    "print(f\"Accuracy: {accuracy}\")"
   ]
  },
  {
   "cell_type": "code",
   "execution_count": null,
   "id": "5bc23c8f",
   "metadata": {},
   "outputs": [],
   "source": []
  },
  {
   "cell_type": "code",
   "execution_count": null,
   "id": "94694818",
   "metadata": {},
   "outputs": [],
   "source": []
  },
  {
   "cell_type": "code",
   "execution_count": null,
   "id": "dff23378",
   "metadata": {},
   "outputs": [],
   "source": []
  },
  {
   "cell_type": "code",
   "execution_count": null,
   "id": "d8746d20",
   "metadata": {},
   "outputs": [],
   "source": []
  },
  {
   "cell_type": "code",
   "execution_count": null,
   "id": "061c6033",
   "metadata": {},
   "outputs": [],
   "source": []
  }
 ],
 "metadata": {
  "kernelspec": {
   "display_name": "Python 3 (ipykernel)",
   "language": "python",
   "name": "python3"
  },
  "language_info": {
   "codemirror_mode": {
    "name": "ipython",
    "version": 3
   },
   "file_extension": ".py",
   "mimetype": "text/x-python",
   "name": "python",
   "nbconvert_exporter": "python",
   "pygments_lexer": "ipython3",
   "version": "3.11.5"
  }
 },
 "nbformat": 4,
 "nbformat_minor": 5
}
